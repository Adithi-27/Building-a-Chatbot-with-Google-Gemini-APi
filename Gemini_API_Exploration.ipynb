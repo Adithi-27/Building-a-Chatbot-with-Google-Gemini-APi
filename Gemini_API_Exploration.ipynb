{
  "nbformat": 4,
  "nbformat_minor": 0,
  "metadata": {
    "colab": {
      "provenance": []
    },
    "kernelspec": {
      "name": "python3",
      "display_name": "Python 3"
    },
    "language_info": {
      "name": "python"
    }
  },
  "cells": [
    {
      "cell_type": "code",
      "execution_count": null,
      "metadata": {
        "colab": {
          "base_uri": "https://localhost:8080/"
        },
        "id": "PpN-Gz8jfTeB",
        "outputId": "676fb774-30c9-4926-afa0-cab34d96ee6b"
      },
      "outputs": [
        {
          "output_type": "stream",
          "name": "stdout",
          "text": [
            "\u001b[?25l   \u001b[90m━━━━━━━━━━━━━━━━━━━━━━━━━━━━━━━━━━━━━━━━\u001b[0m \u001b[32m0.0/160.8 kB\u001b[0m \u001b[31m?\u001b[0m eta \u001b[36m-:--:--\u001b[0m\r\u001b[2K   \u001b[91m━━━━━━━━━━━━━━━━━━━━━━━━━━━━━━━━━━━━━━\u001b[0m\u001b[90m╺\u001b[0m\u001b[90m━\u001b[0m \u001b[32m153.6/160.8 kB\u001b[0m \u001b[31m10.5 MB/s\u001b[0m eta \u001b[36m0:00:01\u001b[0m\r\u001b[2K   \u001b[90m━━━━━━━━━━━━━━━━━━━━━━━━━━━━━━━━━━━━━━━━\u001b[0m \u001b[32m160.8/160.8 kB\u001b[0m \u001b[31m3.2 MB/s\u001b[0m eta \u001b[36m0:00:00\u001b[0m\n",
            "\u001b[?25h\u001b[?25l   \u001b[90m━━━━━━━━━━━━━━━━━━━━━━━━━━━━━━━━━━━━━━━━\u001b[0m \u001b[32m0.0/760.0 kB\u001b[0m \u001b[31m?\u001b[0m eta \u001b[36m-:--:--\u001b[0m\r\u001b[2K   \u001b[91m━━━━━━━━━━━━━━━━━━━━━━━━━━━━━━━━━━━━━━━\u001b[0m\u001b[91m╸\u001b[0m \u001b[32m757.8/760.0 kB\u001b[0m \u001b[31m46.5 MB/s\u001b[0m eta \u001b[36m0:00:01\u001b[0m\r\u001b[2K   \u001b[90m━━━━━━━━━━━━━━━━━━━━━━━━━━━━━━━━━━━━━━━━\u001b[0m \u001b[32m760.0/760.0 kB\u001b[0m \u001b[31m17.0 MB/s\u001b[0m eta \u001b[36m0:00:00\u001b[0m\n",
            "\u001b[?25h"
          ]
        }
      ],
      "source": [
        "pip install -q -U google-generativeai"
      ]
    },
    {
      "cell_type": "code",
      "source": [
        "import google.generativeai as genai\n",
        "import os\n",
        "\n",
        "# Set your API key\n",
        "os.environ[\"GOOGLE_API_KEY\"] = \"YOUR API KEY\"\n",
        "genai.configure(api_key=os.environ[\"GOOGLE_API_KEY\"])"
      ],
      "metadata": {
        "id": "5KpuPaxFfySu"
      },
      "execution_count": null,
      "outputs": []
    },
    {
      "cell_type": "code",
      "source": [
        "# Function to list available models\n",
        "def list_available_models():\n",
        "    models = genai.list_models()\n",
        "    for model in models:\n",
        "        print(\"====================================================--------------------------\")\n",
        "        print(f\"Model Name: {model.name}, \\n Description: {getattr(model, 'description', 'No description available')}\")\n",
        "        print(\"====================================================--------------------------\")\n",
        "\n",
        "# Call the function to list models\n",
        "list_available_models()"
      ],
      "metadata": {
        "colab": {
          "base_uri": "https://localhost:8080/",
          "height": 1000
        },
        "id": "iwQups4WhW4K",
        "outputId": "9ee847b3-c9fa-4b2e-f114-0417c8761a0d"
      },
      "execution_count": null,
      "outputs": [
        {
          "output_type": "stream",
          "name": "stdout",
          "text": [
            "====================================================--------------------------\n",
            "Model Name: models/chat-bison-001, \n",
            " Description: A legacy text-only model optimized for chat conversations\n",
            "====================================================--------------------------\n",
            "====================================================--------------------------\n",
            "Model Name: models/text-bison-001, \n",
            " Description: A legacy model that understands text and generates text as an output\n",
            "====================================================--------------------------\n",
            "====================================================--------------------------\n",
            "Model Name: models/embedding-gecko-001, \n",
            " Description: Obtain a distributed representation of a text.\n",
            "====================================================--------------------------\n",
            "====================================================--------------------------\n",
            "Model Name: models/gemini-1.0-pro-latest, \n",
            " Description: The best model for scaling across a wide range of tasks. This is the latest model.\n",
            "====================================================--------------------------\n",
            "====================================================--------------------------\n",
            "Model Name: models/gemini-1.0-pro, \n",
            " Description: The best model for scaling across a wide range of tasks\n",
            "====================================================--------------------------\n",
            "====================================================--------------------------\n",
            "Model Name: models/gemini-pro, \n",
            " Description: The best model for scaling across a wide range of tasks\n",
            "====================================================--------------------------\n",
            "====================================================--------------------------\n",
            "Model Name: models/gemini-1.0-pro-001, \n",
            " Description: The best model for scaling across a wide range of tasks. This is a stable model that supports tuning.\n",
            "====================================================--------------------------\n",
            "====================================================--------------------------\n",
            "Model Name: models/gemini-1.0-pro-vision-latest, \n",
            " Description: The best image understanding model to handle a broad range of applications\n",
            "====================================================--------------------------\n",
            "====================================================--------------------------\n",
            "Model Name: models/gemini-pro-vision, \n",
            " Description: The best image understanding model to handle a broad range of applications\n",
            "====================================================--------------------------\n",
            "====================================================--------------------------\n",
            "Model Name: models/gemini-1.5-pro-latest, \n",
            " Description: Mid-size multimodal model that supports up to 2 million tokens\n",
            "====================================================--------------------------\n",
            "====================================================--------------------------\n",
            "Model Name: models/gemini-1.5-pro-001, \n",
            " Description: Mid-size multimodal model that supports up to 2 million tokens\n",
            "====================================================--------------------------\n",
            "====================================================--------------------------\n",
            "Model Name: models/gemini-1.5-pro-002, \n",
            " Description: Mid-size multimodal model that supports up to 2 million tokens\n",
            "====================================================--------------------------\n",
            "====================================================--------------------------\n",
            "Model Name: models/gemini-1.5-pro, \n",
            " Description: Mid-size multimodal model that supports up to 2 million tokens\n",
            "====================================================--------------------------\n",
            "====================================================--------------------------\n",
            "Model Name: models/gemini-1.5-pro-exp-0801, \n",
            " Description: Mid-size multimodal model that supports up to 2 million tokens\n",
            "====================================================--------------------------\n",
            "====================================================--------------------------\n",
            "Model Name: models/gemini-1.5-pro-exp-0827, \n",
            " Description: Mid-size multimodal model that supports up to 2 million tokens\n",
            "====================================================--------------------------\n",
            "====================================================--------------------------\n",
            "Model Name: models/gemini-1.5-flash-latest, \n",
            " Description: Fast and versatile multimodal model for scaling across diverse tasks\n",
            "====================================================--------------------------\n",
            "====================================================--------------------------\n",
            "Model Name: models/gemini-1.5-flash-001, \n",
            " Description: Fast and versatile multimodal model for scaling across diverse tasks\n",
            "====================================================--------------------------\n",
            "====================================================--------------------------\n",
            "Model Name: models/gemini-1.5-flash-001-tuning, \n",
            " Description: Fast and versatile multimodal model for scaling across diverse tasks\n",
            "====================================================--------------------------\n",
            "====================================================--------------------------\n",
            "Model Name: models/gemini-1.5-flash, \n",
            " Description: Fast and versatile multimodal model for scaling across diverse tasks\n",
            "====================================================--------------------------\n",
            "====================================================--------------------------\n",
            "Model Name: models/gemini-1.5-flash-exp-0827, \n",
            " Description: Fast and versatile multimodal model for scaling across diverse tasks\n",
            "====================================================--------------------------\n",
            "====================================================--------------------------\n",
            "Model Name: models/gemini-1.5-flash-002, \n",
            " Description: Fast and versatile multimodal model for scaling across diverse tasks\n",
            "====================================================--------------------------\n",
            "====================================================--------------------------\n",
            "Model Name: models/gemini-1.5-flash-8b, \n",
            " Description: Fast and versatile multimodal model for scaling across diverse tasks\n",
            "====================================================--------------------------\n",
            "====================================================--------------------------\n",
            "Model Name: models/gemini-1.5-flash-8b-001, \n",
            " Description: Fast and versatile multimodal model for scaling across diverse tasks\n",
            "====================================================--------------------------\n",
            "====================================================--------------------------\n",
            "Model Name: models/gemini-1.5-flash-8b-latest, \n",
            " Description: Fast and versatile multimodal model for scaling across diverse tasks\n",
            "====================================================--------------------------\n",
            "====================================================--------------------------\n",
            "Model Name: models/gemini-1.5-flash-8b-exp-0827, \n",
            " Description: Fast and versatile multimodal model for scaling across diverse tasks\n",
            "====================================================--------------------------\n",
            "====================================================--------------------------\n",
            "Model Name: models/gemini-1.5-flash-8b-exp-0924, \n",
            " Description: Fast and versatile multimodal model for scaling across diverse tasks\n",
            "====================================================--------------------------\n",
            "====================================================--------------------------\n",
            "Model Name: models/embedding-001, \n",
            " Description: Obtain a distributed representation of a text.\n",
            "====================================================--------------------------\n",
            "====================================================--------------------------\n",
            "Model Name: models/text-embedding-004, \n",
            " Description: Obtain a distributed representation of a text.\n",
            "====================================================--------------------------\n",
            "====================================================--------------------------\n",
            "Model Name: models/aqa, \n",
            " Description: Model trained to return answers to questions that are grounded in provided sources, along with estimating answerable probability.\n",
            "====================================================--------------------------\n"
          ]
        }
      ]
    },
    {
      "cell_type": "code",
      "source": [
        "# Initialize the model\n",
        "model = genai.GenerativeModel(\"models/gemini-pro\")"
      ],
      "metadata": {
        "id": "5_PZpIzAovAW"
      },
      "execution_count": null,
      "outputs": []
    },
    {
      "cell_type": "code",
      "source": [
        "prompt = \"What is universe\""
      ],
      "metadata": {
        "id": "r-HUHptFo573"
      },
      "execution_count": null,
      "outputs": []
    },
    {
      "cell_type": "code",
      "source": [
        "model.generate_content(prompt).text"
      ],
      "metadata": {
        "colab": {
          "base_uri": "https://localhost:8080/",
          "height": 109
        },
        "id": "jjR9YuBGpGhX",
        "outputId": "3a6b30c0-1532-448c-fcb4-14b53aa656b5"
      },
      "execution_count": null,
      "outputs": [
        {
          "output_type": "execute_result",
          "data": {
            "text/plain": [
              "'**Definition:**\\n\\nThe universe is everything that exists, including all of space and time, as well as all the matter and energy that make up the cosmos.\\n\\n**Key Characteristics:**\\n\\n* **Infinite in size and extent:** The universe is believed to be vast and boundless, with no discernible edges or limits.\\n* **Expanding and evolving:** The universe is constantly expanding and changing, with galaxies moving apart and new stars and planets forming continuously.\\n* **Contains all matter and energy:** The universe contains everything that exists, including all the atoms, molecules, and energy that make up physical reality.\\n* **Governed by laws of physics:** The universe operates according to a set of fundamental laws of physics, such as gravity, electromagnetism, and quantum mechanics.\\n\\n**Components:**\\n\\nThe universe is composed of a variety of structures and objects, including:\\n\\n* **Galaxies:** Vast collections of stars, gas, and dust.\\n* **Stars:** Massive spheres of glowing gas that produce energy through nuclear fusion.\\n* **Planets:** Smaller bodies that orbit stars.\\n* **Moons:** Natural satellites that orbit planets.\\n* **Asteroids:** Rocky bodies that are smaller than planets.\\n* **Comets:** Small icy bodies with long, thin tails.\\n* **Dark matter:** A mysterious substance that makes up approximately 85% of the universe\\'s mass but cannot be directly observed.\\n* **Dark energy:** A force that is causing the expansion of the universe to accelerate.\\n\\n**Origin and Evolution:**\\n\\nThe exact origin of the universe is still debated, but the prevailing theory is the **Big Bang theory**, which posits that the universe began about 13.8 billion years ago with a hot and dense singularity that expanded and cooled.\\n\\nOver time, the universe evolved and formed the structures and objects we observe today through processes such as gravitational collapse and nuclear fusion.\\n\\n**Future:**\\n\\nThe future of the universe is uncertain, but it is predicted to continue expanding and cooling. Eventually, it may reach a state known as the \"Big Freeze\" or the \"Heat Death,\" when all energy is distributed evenly and the universe becomes a cold, dark void.'"
            ],
            "application/vnd.google.colaboratory.intrinsic+json": {
              "type": "string"
            }
          },
          "metadata": {},
          "execution_count": 6
        }
      ]
    },
    {
      "cell_type": "markdown",
      "source": [
        "Structure Code"
      ],
      "metadata": {
        "id": "r3Da7M_spYFk"
      }
    },
    {
      "cell_type": "code",
      "source": [
        "# Function to generate content\n",
        "def generate_contet(prompt):\n",
        "    response = model.generate_content(prompt)\n",
        "    return response.text"
      ],
      "metadata": {
        "id": "ewsG8NhXpZsK"
      },
      "execution_count": null,
      "outputs": []
    },
    {
      "cell_type": "code",
      "source": [
        "#\n",
        "prompt = input(\"How may i help Today............\")\n",
        "content = generate_contet(prompt)\n",
        "\n",
        "print(\"\\n\\n==================================\\n\",content)"
      ],
      "metadata": {
        "id": "fTev4OO8plDs"
      },
      "execution_count": null,
      "outputs": []
    }
  ]
}